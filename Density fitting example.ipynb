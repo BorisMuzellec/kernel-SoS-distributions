{
 "cells": [
  {
   "cell_type": "code",
   "execution_count": 1,
   "metadata": {},
   "outputs": [],
   "source": [
    "%matplotlib inline\n",
    "\n",
    "import numpy as np\n",
    "\n",
    "import torch\n",
    "torch.set_default_dtype(torch.float64)\n",
    "\n",
    "import matplotlib.pyplot as plt\n",
    "\n",
    "#import time\n",
    "\n",
    "from utils import make_kernels, density\n",
    "from optim import accelerated_gd\n",
    "\n",
    "from data_generator import generate_2d_data"
   ]
  },
  {
   "cell_type": "markdown",
   "metadata": {},
   "source": [
    "## Sample data"
   ]
  },
  {
   "cell_type": "code",
   "execution_count": 2,
   "metadata": {},
   "outputs": [],
   "source": [
    "n = 100\n",
    "m = 50\n",
    "dataset = 'moons'\n",
    "\n",
    "X = generate_2d_data(dataset, rng=42, batch_size=n)[0]\n",
    "\n",
    "## Subsample support points\n",
    "torch.manual_seed(42)\n",
    "Xn = torch.from_numpy(X).double()[torch.randperm(n)]\n",
    "Xm = Xn[:m]\n"
   ]
  },
  {
   "cell_type": "code",
   "execution_count": 3,
   "metadata": {
    "scrolled": true
   },
   "outputs": [
    {
     "data": {
      "text/plain": [
       "<matplotlib.legend.Legend at 0x7fc911566fd0>"
      ]
     },
     "execution_count": 3,
     "metadata": {},
     "output_type": "execute_result"
    },
    {
     "data": {
      "image/png": "[encoded data removed]",
      "text/plain": [
       "<Figure size 432x288 with 1 Axes>"
      ]
     },
     "metadata": {
      "needs_background": "light"
     },
     "output_type": "display_data"
    }
   ],
   "source": [
    "plt.scatter(Xn[m:, 0], Xn[m:, 1], marker='x', s = 30, color = 'blue')\n",
    "plt.scatter(Xm[:, 0], Xm[:, 1], marker='*', s = 80, color ='red', label = 'Support Points')\n",
    "\n",
    "\n",
    "plt.legend()"
   ]
  },
  {
   "cell_type": "markdown",
   "metadata": {},
   "source": [
    "## Fit density "
   ]
  },
  {
   "cell_type": "code",
   "execution_count": 4,
   "metadata": {},
   "outputs": [
    {
     "ename": "ValueError",
     "evalue": "invalid number of arguments",
     "output_type": "error",
     "traceback": [
      "\u001b[0;31m---------------------------------------------------------------------------\u001b[0m",
      "\u001b[0;31mValueError\u001b[0m                                Traceback (most recent call last)",
      "\u001b[0;32m<ipython-input-4-ffaa53fb8c70>\u001b[0m in \u001b[0;36m<module>\u001b[0;34m\u001b[0m\n\u001b[1;32m      1\u001b[0m \u001b[0;31m### hyperparameters\u001b[0m\u001b[0;34m\u001b[0m\u001b[0;34m\u001b[0m\u001b[0;34m\u001b[0m\u001b[0m\n\u001b[1;32m      2\u001b[0m \u001b[0;34m\u001b[0m\u001b[0m\n\u001b[0;32m----> 3\u001b[0;31m \u001b[0msigma\u001b[0m \u001b[0;34m=\u001b[0m \u001b[0mnp\u001b[0m\u001b[0;34m.\u001b[0m\u001b[0msqrt\u001b[0m\u001b[0;34m(\u001b[0m\u001b[0;34m)\u001b[0m\u001b[0;34m\u001b[0m\u001b[0;34m\u001b[0m\u001b[0m\n\u001b[0m\u001b[1;32m      4\u001b[0m \u001b[0mlbda\u001b[0m \u001b[0;34m=\u001b[0m \u001b[0;36m1e-3\u001b[0m\u001b[0;34m\u001b[0m\u001b[0;34m\u001b[0m\u001b[0m\n\u001b[1;32m      5\u001b[0m \u001b[0;34m\u001b[0m\u001b[0m\n",
      "\u001b[0;31mValueError\u001b[0m: invalid number of arguments"
     ]
    }
   ],
   "source": [
    "### hyperparameters\n",
    "\n",
    "sigma = np.sqrt(1)\n",
    "lbda = 1e-3\n",
    "\n",
    "niter = 100000\n",
    "tau = 1e-11\n",
    "\n",
    "### build matrices\n",
    "Kmm, Kmn, W, U = make_kernels(Xm, Xn, sigma=sigma)"
   ]
  },
  {
   "cell_type": "code",
   "execution_count": null,
   "metadata": {
    "scrolled": false
   },
   "outputs": [],
   "source": [
    "B, losses  = accelerated_gd(U, W, Kmm, Kmn, lbda=lbda, reg='trace',\n",
    "                                        tau=tau, niter=niter, acceleration=True, factored=True,\n",
    "                                        verbose=True, report_interval=5000)"
   ]
  },
  {
   "cell_type": "code",
   "execution_count": null,
   "metadata": {},
   "outputs": [],
   "source": [
    "## Monitor loss decrease\n",
    "plt.plot(losses)\n",
    "plt.yscale('log')\n",
    "\n",
    "plt.xlabel(\"# iterations\", fontsize=15)\n",
    "plt.ylabel(\"objective\", fontsize=15)\n",
    "\n",
    "plt.show()"
   ]
  },
  {
   "cell_type": "code",
   "execution_count": null,
   "metadata": {
    "scrolled": true
   },
   "outputs": [],
   "source": [
    "import scipy.stats\n",
    "\n",
    "fig, ax = plt.subplots()\n",
    "\n",
    "\n",
    "xmax = 1.5 * X[:, 0].max().item()\n",
    "xmin = 1.5 * X[:, 0].min().item()\n",
    "\n",
    "ymax = 1.5 * X[:, 1].max().item()\n",
    "ymin = 1.5 * X[:, 1].min().item()\n",
    "\n",
    "\n",
    "x, y = np.mgrid[xmin:xmax:.05, ymin:ymax:.05]\n",
    "pos = np.empty(x.shape + (2,))\n",
    "pos[:, :, 0] = x; pos[:, :, 1] = y\n",
    "\n",
    "\n",
    "Z = density(torch.from_numpy(pos.reshape(-1, 2)), Xm, B, sigma).reshape(pos.shape[:-1])\n",
    "\n",
    "\n",
    "CS = ax.contour(x, y, Z, colors= 'black')\n",
    "CF = ax.contourf(x, y, Z, cmap = 'bwr')\n",
    "cbar = plt.colorbar(CF)\n",
    "\n",
    "ax.scatter(Xn[m:, 0], Xn[m:, 1], marker='x', s = 30, color ='black')\n",
    "ax.scatter(Xm[:, 0], Xm[:, 1], marker='*', s = 80, color ='black', label = 'Support Points')\n",
    "\n",
    "\n",
    "plt.title(rf\" $\\sigma^2 = ${sigma**2:.1f},   $\\lambda = ${lbda:.0e}\", fontsize=16)\n",
    "\n",
    "plt.legend()\n",
    "\n",
    "plt.show()"
   ]
  },
  {
   "cell_type": "code",
   "execution_count": null,
   "metadata": {},
   "outputs": [],
   "source": []
  }
 ],
 "metadata": {
  "kernelspec": {
   "display_name": "Python 3",
   "language": "python",
   "name": "python3"
  },
  "language_info": {
   "codemirror_mode": {
    "name": "ipython",
    "version": 3
   },
   "file_extension": ".py",
   "mimetype": "text/x-python",
   "name": "python",
   "nbconvert_exporter": "python",
   "pygments_lexer": "ipython3",
   "version": "3.8.8"
  }
 },
 "nbformat": 4,
 "nbformat_minor": 4
}
